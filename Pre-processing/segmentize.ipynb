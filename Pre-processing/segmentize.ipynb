{
 "cells": [
  {
   "cell_type": "markdown",
   "id": "c45afdf1",
   "metadata": {
    "tags": []
   },
   "source": [
    "<h1>To make the process of dividing and sorting data into 80-20 faster, divide the data first before running the program</h1>\n",
    "\n",
    "\n",
    "<h3>NOTE: Make sure that all directories exists before running this script!</h3>\n",
    "<strong>Data</strong>\n",
    "<ul> \n",
    "    <li>correct_raw</li>\n",
    "    <li>incorrect_raw</li>\n",
    "    \n",
    "</ul>\n",
    "\n",
    "<ul>\n",
    "    <li>c_top_1</li>\n",
    "    <li>c_top_2</li>\n",
    "    <li>c_bot_1</li>\n",
    "    <li>c_mid_1</li>\n",
    "    <li>i_top_1</li>\n",
    "    <li>i_top_2</li>\n",
    "    <li>i_bot_1</li>\n",
    "    <li>i_mid_1</li>\n",
    "</ul>"
   ]
  },
  {
   "cell_type": "markdown",
   "id": "92a4d472",
   "metadata": {
    "tags": []
   },
   "source": [
    "<strong>LIBRARIES</strong>"
   ]
  },
  {
   "cell_type": "code",
   "execution_count": 1,
   "id": "0918b8a8",
   "metadata": {},
   "outputs": [],
   "source": [
    "import cv2 as cv\n",
    "import numpy as np\n",
    "import mediapipe as mp\n",
    "from matplotlib import pyplot as plt\n",
    "import time\n",
    "import math\n",
    "import os\n",
    "import pathlib\n",
    "import shutil\n",
    "import random\n",
    "from collections import Counter\n",
    "from shutil import rmtree"
   ]
  },
  {
   "cell_type": "markdown",
   "id": "5431a88b",
   "metadata": {
    "tags": []
   },
   "source": [
    "<h1>Extract and copy each video frame to a list (<i>vid_copy</i>)</h1>"
   ]
  },
  {
   "cell_type": "code",
   "execution_count": 2,
   "id": "5cbcb685",
   "metadata": {
    "tags": []
   },
   "outputs": [],
   "source": [
    "def estimate(origin, origin_str, label):    \n",
    "    for root, directories, files in origin:\n",
    "        for file in files:\n",
    "            video = origin_str + f\"/{file}\"\n",
    "            cap = cv.VideoCapture(video)\n",
    "            print(f\"Processing Video: {video}\")\n",
    "            \n",
    "            #mpDraw = mp.solutions.drawing_utils\n",
    "            mpPose = mp.solutions.pose\n",
    "            pose = mpPose.Pose()\n",
    "            \n",
    "            frame_width = math.floor(int(cap.get(3)))\n",
    "            frame_height = math.floor(int(cap.get(4)))\n",
    "            size = (frame_width, frame_height)\n",
    "            \n",
    "            if not cap.isOpened():\n",
    "                raise IOError(\"Cant Load Video\")\n",
    "            \n",
    "            vid_copy = [] # Copy vid here\n",
    "\n",
    "            while cv.waitKey(1) < 0:\n",
    "                hasFrame, frame = cap.read()\n",
    "\n",
    "                if not hasFrame:\n",
    "                    cv.waitKey(1)\n",
    "                    cap.release()\n",
    "                    cv.destroyAllWindows()\n",
    "                    break\n",
    "\n",
    "                imgRGB = cv.cvtColor(frame, cv.COLOR_BGR2RGB)\n",
    "                results = pose.process(imgRGB)\n",
    "\n",
    "                #print(results.pose_landmarks)\n",
    "                tmp = 0\n",
    "                if results.pose_landmarks:\n",
    "                    #mpDraw.draw_landmarks(frame, results.pose_landmarks, mpPose.POSE_CONNECTIONS)\n",
    "                    for id, lm in enumerate(results.pose_landmarks.landmark):\n",
    "                        height, width, channel = frame.shape\n",
    "                        \n",
    "                        # r_shoulder(11) as reference landmark\n",
    "                        if id == 11:\n",
    "                            vid_copy.append((frame, lm.y, round(lm.y, 1)))\n",
    "                            tmp = lm.y\n",
    "          \n",
    "                cv.imshow(\"Realtime\", frame)\n",
    "                cv.waitKey(1)\n",
    "                \n",
    "            # Segmentize after each video iteration\n",
    "            segmentize(vid_copy, file, label)"
   ]
  },
  {
   "cell_type": "markdown",
   "id": "6d708386-f524-490e-bbcc-c760f1cd1646",
   "metadata": {
    "tags": []
   },
   "source": [
    "<h1>Extract squat segments from <i>vid_copy</i></h1>\n",
    "<h3> GUIDE: vid_copy[<i>element_index</i>][<i>touple_index</i>] | <i>touple_index</i>: 0 = frame, 1 = r_shoulder(11) y-value</h3>\n",
    "\n",
    "<strong> SQUAT SEGMENTS: </strong>\n",
    "<ul>\n",
    "    <li>top_1: first element of <i>vid_copy</i></li>\n",
    "    <li>top_2: last element of <i>vid_copy</i></li>\n",
    "    <li>bot_1: element of <i>vid_copy</i> with lowest yyvalue (2nd element of touple)</li>\n",
    "    <li>mid_1: element of <i>vid_copy</i> between bot_1 and top_1</li>\n",
    "</ul>\n",
    "\n",
    "\n",
    "<i>Note: I'm storing the segments into a data structure. This may seem unnecessary since we can simply save the images into the directory and all's fine but this MIGHT come in handy in the future. </i>"
   ]
  },
  {
   "cell_type": "code",
   "execution_count": 3,
   "id": "7ef27eb2-6b26-4557-8be3-24a7ccb0dfd5",
   "metadata": {
    "tags": []
   },
   "outputs": [
    {
     "data": {
      "text/plain": [
       "str"
      ]
     },
     "execution_count": 3,
     "metadata": {},
     "output_type": "execute_result"
    }
   ],
   "source": [
    "# directory utilities\n",
    "path = os.walk(os.path.abspath(os.getcwd())) # Gets current directory\n",
    "c_origin_str = os.path.abspath(os.getcwd()) + \"/correct_raw\"\n",
    "i_origin_str = os.path.abspath(os.getcwd()) + \"/incorrect_raw\"\n",
    "c_origin = os.walk(c_origin_str)\n",
    "i_origin = os.walk(i_origin_str)\n",
    "\n",
    "labels = [\"i\", \"c\"]\n",
    "classes = [\"top_1\" , \"top_2\", \"bot_1\", \"mid_1\"]\n",
    "\n",
    "type(c_origin_str)"
   ]
  },
  {
   "cell_type": "code",
   "execution_count": 4,
   "id": "722e1e35-28b8-49f9-ae9f-040705ed6224",
   "metadata": {
    "tags": []
   },
   "outputs": [],
   "source": [
    "def segmentize(vid_copy, file, label):\n",
    "    segments = [] \n",
    "    segments.append(vid_copy[0][0]) # top_1\n",
    "    segments.append(vid_copy[len(vid_copy)-1][0]) # top_2\n",
    "\n",
    "    min_y = vid_copy[0][1]\n",
    "    bot1_idx = 0\n",
    "    for i in range(len(vid_copy)):\n",
    "        if min_y < vid_copy[i][1]:\n",
    "            min_y = vid_copy[i][1]\n",
    "            bot1_idx = i\n",
    "\n",
    "    segments.append(vid_copy[bot1_idx][0]) # bot_1\n",
    "    \n",
    "    prev_frame_yval = vid_copy[0][2] # NOTE: The 2 index here is he 2nd decimal place\n",
    "    change_idx = 0\n",
    "    \n",
    "    next_frame_yval = vid_copy[bot1_idx][2]\n",
    "    change_idx_bot = 0\n",
    "    \n",
    "    for i in range(len(vid_copy)):\n",
    "        if vid_copy[i][2] > prev_frame_yval: # This is where the change starts from top_1 \n",
    "            change_idx = i\n",
    "            break\n",
    "            \n",
    "    for j in range(len(vid_copy)):\n",
    "        if vid_copy[j][2] == next_frame_yval: # This is where the change starts to bot_1\n",
    "            change_idx_bot = j\n",
    "            break\n",
    "            \n",
    "    segments.append(vid_copy[math.floor((change_idx + change_idx_bot)/2)][0]) # mid_1\n",
    "    ctr = 0\n",
    "    for class_name in classes:\n",
    "    # Save images from segments list\n",
    "        cv.imwrite(f\"{os.path.abspath(os.getcwd())}/{label}_{class_name}/{file[:-4]}.png\", segments[ctr])\n",
    "        ctr+=1"
   ]
  },
  {
   "cell_type": "code",
   "execution_count": 5,
   "id": "793986fd-2112-48e9-8392-27dc9f415827",
   "metadata": {
    "tags": []
   },
   "outputs": [],
   "source": [
    "# estimate(i_origin, i_origin_str, \"i\")"
   ]
  },
  {
   "cell_type": "markdown",
   "id": "ce1bdd96-acaf-43f4-a6b5-60caaa2eac82",
   "metadata": {
    "tags": []
   },
   "source": [
    "estimate(c_origin, c_origin_str, \"c\" )"
   ]
  },
  {
   "cell_type": "code",
   "execution_count": 6,
   "id": "0d160f1a-2b51-400b-8a47-a93e11327798",
   "metadata": {
    "tags": []
   },
   "outputs": [],
   "source": [
    "def create_class_directories(dir_str): #creates classes directory\n",
    "# Create directories\n",
    "  for label in labels:\n",
    "    for class_name in classes:\n",
    "    # rmtree(f\"{dir_str}/{label}_{class_name}\")\n",
    "      os.mkdir(f\"{dir_str}/{label}_{class_name}\")"
   ]
  },
  {
   "cell_type": "code",
   "execution_count": 7,
   "id": "7ee5795a-b72c-4882-80c8-93c455d119f6",
   "metadata": {},
   "outputs": [],
   "source": [
    "def copy_files(filename, val, condition, label):\n",
    "  dir_str = f\"{os.path.abspath(os.getcwd())}\"\n",
    "\n",
    "  source = f\"{dir_str}/{label}_\"\n",
    "  destination = f\"{dir_str}/{val}\"\n",
    "\n",
    "\n",
    "  ctr = 0       \n",
    "  for class_name in classes:\n",
    "    \n",
    "    shutil.copy((f\"{source+class_name}/{filename}\"), (f\"{destination}/{condition}/{label}_{class_name}/{filename}\"))\n",
    "    if condition == \"validation\":\n",
    "      shutil.copy(({source+class_name}/{filename}), (f\"{destination}/test/{filename[:-4]}_{ctr}.png\"))\n",
    "      ctr+=1"
   ]
  },
  {
   "cell_type": "code",
   "execution_count": 8,
   "id": "baf9d611-d967-4a27-aaa4-0d111c308bff",
   "metadata": {},
   "outputs": [],
   "source": [
    "def div_data(val):\n",
    "\n",
    "  for label in labels:\n",
    "\n",
    "    dir_str = f\"{os.path.abspath(os.getcwd())}/{label}_top_1\"\n",
    "    filenames = next(os.walk(dir_str ), (None, None, []))[2]  # [] if no file\n",
    "\n",
    "    train_files = random.sample(filenames, int(len(filenames) * (val * 0.01)))\n",
    "    test_files = list((Counter(filenames)-Counter(train_files)).elements())\n",
    "\n",
    "    for filename in train_files:\n",
    "      copy_files(filename, val, \"train\", label)\n",
    "\n",
    "    for filename in test_files:\n",
    "      copy_files(filename, val, \"validation\", label)\n",
    "    print(label, \" files: \",len(filenames))\n"
   ]
  },
  {
   "cell_type": "code",
   "execution_count": 9,
   "id": "5fe7e525-6825-4375-a7c6-133176d00193",
   "metadata": {},
   "outputs": [],
   "source": [
    "def create_copies():\n",
    "  \n",
    "  # for i in range(10,101,10):\n",
    "  i = 100\n",
    "  os.mkdir(f\"{os.path.abspath(os.getcwd())}/{i}\") # Create Folder\n",
    "  dir_str = f\"{os.path.abspath(os.getcwd())}/{i}\"\n",
    "\n",
    "  os.mkdir(f\"{dir_str}/train\")\n",
    "  create_class_directories(f\"{dir_str}/train\")\n",
    "\n",
    "#   os.mkdir(f\"{dir_str}/validation\")\n",
    "#   create_class_directories(f\"{dir_str}/validation\")\n",
    "\n",
    "#   os.mkdir(f\"{dir_str}/test\")\n",
    "\n",
    "  div_data(i)\n",
    "  print(\"Directory Created!\")"
   ]
  },
  {
   "cell_type": "code",
   "execution_count": 10,
   "id": "46d7256c-0415-4916-8c49-cac6e47b5319",
   "metadata": {},
   "outputs": [
    {
     "name": "stdout",
     "output_type": "stream",
     "text": [
      "i  files:  307\n",
      "c  files:  272\n",
      "Directory Created!\n"
     ]
    }
   ],
   "source": [
    "create_copies()"
   ]
  },
  {
   "cell_type": "code",
   "execution_count": 11,
   "id": "16ee5ede-e45e-4526-bf4e-87a714cb38c2",
   "metadata": {},
   "outputs": [],
   "source": [
    "def augment_data(label):\n",
    "\n",
    "  for i in range(100,101,10):\n",
    "    dir_str = f\"{os.path.abspath(os.getcwd())}/{i}/train/\"\n",
    "    filenames = next(os.walk(dir_str + f\"{label}_bot_1/\"), (None, None, []))[2]  # [] if no file\n",
    "    \n",
    "    for class_name in classes:\n",
    "      \n",
    "      for filename in filenames:\n",
    "        img = cv.imread(f'{dir_str+label}_{class_name}/{filename}')\n",
    "        img_flipped = cv.flip(img, 1)\n",
    "        file_dir = f\"{dir_str+label}_{class_name}/{filename[:-4]}(1).png\"\n",
    "        cv.imwrite(file_dir, img_flipped)\n",
    "\n",
    "      print(f\"Done Augmenting {label}_{class_name}\")\n",
    "    \n",
    "    print(f\"**************Done Augmenting {i}*************************\")"
   ]
  },
  {
   "cell_type": "code",
   "execution_count": 12,
   "id": "da7e6307-693d-45da-a6d3-6af80c80f79d",
   "metadata": {},
   "outputs": [
    {
     "name": "stdout",
     "output_type": "stream",
     "text": [
      "Done Augmenting i_top_1\n",
      "Done Augmenting i_top_2\n",
      "Done Augmenting i_bot_1\n",
      "Done Augmenting i_mid_1\n",
      "**************Done Augmenting 100*************************\n"
     ]
    }
   ],
   "source": [
    "augment_data(\"i\")"
   ]
  },
  {
   "cell_type": "code",
   "execution_count": 13,
   "id": "e82e32f4-46e6-402e-8b19-c75ccfbbedab",
   "metadata": {},
   "outputs": [
    {
     "name": "stdout",
     "output_type": "stream",
     "text": [
      "Done Augmenting c_top_1\n",
      "Done Augmenting c_top_2\n",
      "Done Augmenting c_bot_1\n",
      "Done Augmenting c_mid_1\n",
      "**************Done Augmenting 100*************************\n"
     ]
    }
   ],
   "source": [
    "augment_data(\"c\")"
   ]
  },
  {
   "cell_type": "code",
   "execution_count": null,
   "id": "09cb87bb-4887-4ce0-adf1-4445bc3b79d6",
   "metadata": {},
   "outputs": [],
   "source": []
  }
 ],
 "metadata": {
  "kernelspec": {
   "display_name": "Python 3 (ipykernel)",
   "language": "python",
   "name": "python3"
  },
  "language_info": {
   "codemirror_mode": {
    "name": "ipython",
    "version": 3
   },
   "file_extension": ".py",
   "mimetype": "text/x-python",
   "name": "python",
   "nbconvert_exporter": "python",
   "pygments_lexer": "ipython3",
   "version": "3.9.7"
  }
 },
 "nbformat": 4,
 "nbformat_minor": 5
}
