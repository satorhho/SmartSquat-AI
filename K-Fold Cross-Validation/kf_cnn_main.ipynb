{
 "cells": [
  {
   "cell_type": "code",
   "execution_count": null,
   "metadata": {
    "id": "G15xpmK_ehBh"
   },
   "outputs": [],
   "source": [
    "import tensorflow as tf\n",
    "from tensorflow.keras.preprocessing.image import ImageDataGenerator\n",
    "from tensorflow.keras.preprocessing import image\n",
    "from tensorflow.keras.optimizers import RMSprop\n",
    "from tensorflow.keras.optimizers import Adam\n",
    "from tensorflow.keras.models import load_model\n",
    "from matplotlib import pyplot as plt \n",
    "from sklearn.model_selection import KFold\n",
    "from sklearn.model_selection import StratifiedKFold\n",
    "import cv2 as cv\n",
    "import os \n",
    "import math\n",
    "import numpy as np\n",
    "from shutil import rmtree\n",
    "from time import perf_counter"
   ]
  },
  {
   "cell_type": "code",
   "execution_count": null,
   "metadata": {
    "colab": {
     "base_uri": "https://localhost:8080/"
    },
    "id": "sEr4IKPN5_6K",
    "outputId": "0cffc01a-f68a-4d61-a617-a607b2d3f2fb"
   },
   "outputs": [],
   "source": [
    "os.listdir() "
   ]
  },
  {
   "cell_type": "code",
   "execution_count": null,
   "metadata": {},
   "outputs": [],
   "source": [
    "print(\"Num GPUs Available: \", len(tf.config.list_physical_devices('GPU')))\n",
    "tf.debugging.set_log_device_placement(True)"
   ]
  },
  {
   "cell_type": "code",
   "execution_count": null,
   "metadata": {
    "id": "1wK0s_VHyHSu"
   },
   "outputs": [],
   "source": [
    "def generate_model(shape):\n",
    "  cnn_model = tf.keras.models.Sequential([tf.keras.layers.Conv2D(250, (3, 3), activation = \"relu\", input_shape = shape), #ConvLayer\n",
    "                                      tf.keras.layers.MaxPool2D(2, 2), \n",
    "                                      \n",
    "                                      tf.keras.layers.Conv2D(300, (4, 4), activation = \"relu\"),\n",
    "                                      tf.keras.layers.MaxPool2D(2, 2),\n",
    "                                      \n",
    "                                      tf.keras.layers.Conv2D(500, (4, 4), activation = \"relu\"),\n",
    "                                      tf.keras.layers.MaxPool2D(2, 2), \n",
    "                                      \n",
    "                                      tf.keras.layers.Conv2D(256, (2,2), activation =\"relu\", kernel_regularizer='l1_l2', bias_regularizer=\"l1\", activity_regularizer=\"l2\"),\n",
    "\n",
    "                                      tf.keras.layers.Conv2D(800, (3, 3), activation = \"relu\"),    # This \n",
    "                                      tf.keras.layers.MaxPool2D(2, 2),                             # This \n",
    "\n",
    "                                      tf.keras.layers.Conv2D(256, (2, 2), activation = \"relu\"),\n",
    "                                      tf.keras.layers.MaxPool2D(2, 2), \n",
    "\n",
    "                                      tf.keras.layers.Conv2D(512, (3, 3), activation = \"relu\"),    # This \n",
    "                                      tf.keras.layers.MaxPool2D(2, 2),                             # This  \n",
    "\n",
    "                                      tf.keras.layers.BatchNormalization(),\n",
    "\n",
    "                                      tf.keras.layers.Flatten(),\n",
    "                                      \n",
    "                                      tf.keras.layers.Dense(500, activation = \"relu\"),             # This \n",
    "\n",
    "                                      tf.keras.layers.Dense(250, activation = \"relu\"),\n",
    "\n",
    "                                      tf.keras.layers.Dense(100, activation = \"relu\", kernel_regularizer='l1_l2', bias_regularizer=\"l1_l2\", activity_regularizer=\"l1_l2\"),\n",
    "\n",
    "                                      tf.keras.layers.BatchNormalization(),\n",
    "                                      \n",
    "                                      # FINAL DENSE LAYER NEURON COUNT SHOULD BE EQUAL TO OUR CLASSESS (n = 8)\n",
    "                                      tf.keras.layers.Dense(8, activation = \"softmax\"), \n",
    "                                      \n",
    "  ])\n",
    "\n",
    "  return cnn_model"
   ]
  },
  {
   "cell_type": "code",
   "execution_count": null,
   "metadata": {
    "id": "nCRr0gDBkpZa"
   },
   "outputs": [],
   "source": [
    "def create_directories(n):\n",
    "  rmtree(f\"{os.path.abspath(os.getcwd())}/folds\")  # Delete first\n",
    "  os.mkdir(f\"{os.path.abspath(os.getcwd())}/folds\") # Recreate Folder\n",
    "  for i in range(n):\n",
    "    dir_str = f\"{os.path.abspath(os.getcwd())}/folds/fold{i}\"\n",
    "    os.mkdir(dir_str)\n",
    "    os.mkdir(f\"{dir_str}/train\")\n",
    "    create_class_directories(f\"{dir_str}/train\")\n",
    "    os.mkdir(f\"{dir_str}/test\")\n",
    "    create_class_directories(f\"{dir_str}/test\")\n",
    "    print(\"Directory Created!\")"
   ]
  },
  {
   "cell_type": "code",
   "execution_count": null,
   "metadata": {
    "id": "DpgEZ_r-u4t9"
   },
   "outputs": [],
   "source": [
    "def create_model_directories(n):\n",
    "  rmtree(f\"{os.path.abspath(os.getcwd())}/models_kfold\")  # Delete first\n",
    "  os.mkdir(f\"{os.path.abspath(os.getcwd())}/models_kfold\") # Recreate Folder\n",
    "  for i in range(n):\n",
    "     dir_str = f\"{os.path.abspath(os.getcwd())}/models_kfold/fold{i}\"\n",
    "     os.mkdir(dir_str)\n",
    "\n",
    "  print(\"Model Directories Created!\")"
   ]
  },
  {
   "cell_type": "code",
   "execution_count": null,
   "metadata": {
    "id": "cxyJvUAzpORh"
   },
   "outputs": [],
   "source": [
    "def create_class_directories(dir_str): # With the assumption that current directory is empty\n",
    "  # Create correct directories\n",
    "  os.mkdir(f\"{dir_str}/c_bot_1\")\n",
    "  os.mkdir(f\"{dir_str}/c_mid_1\")\n",
    "  os.mkdir(f\"{dir_str}/c_top_1\")\n",
    "  os.mkdir(f\"{dir_str}/c_top_2\")\n",
    "\n",
    "  # Create incorrect directories\n",
    "  os.mkdir(f\"{dir_str}/i_bot_1\")\n",
    "  os.mkdir(f\"{dir_str}/i_mid_1\")\n",
    "  os.mkdir(f\"{dir_str}/i_top_1\")\n",
    "  os.mkdir(f\"{dir_str}/i_top_2\")\n",
    "\n",
    "  print(\"Classes Created!\")"
   ]
  },
  {
   "cell_type": "code",
   "execution_count": null,
   "metadata": {
    "id": "QPZrgEpqhVA5"
   },
   "outputs": [],
   "source": [
    "# img_shape = cv.imread(f\"{os.path.abspath(os.getcwd())}/test/c_bot_1/Adrian2_11.png\").shape\n",
    "# img_shape\n",
    "#img_height, img_width, img_channel = cv.imread(f'{os.path.abspath(os.getcwd())}/train/i_top_2/Yen_11.png').shape\n",
    "#img_shape = (img_height, img_width, img_channel)\n",
    "\n",
    "#tmp_height = math.floor(img_height/4)\n",
    "#tmp_width = math.floor(img_width/4)\n",
    "shape_hyperparam_dir = (224, 224)\n",
    "shape_hyperparam_cnn = (224, 224, 3) # Channel is unchanged"
   ]
  },
  {
   "cell_type": "code",
   "execution_count": null,
   "metadata": {
    "id": "MqHl9z-Qbpco"
   },
   "outputs": [],
   "source": [
    "BATCH_SIZE = 2**3\n",
    "EPOCHS = 150\n",
    "N_SPLITS = 10\n",
    "\n",
    "main_images = ImageDataGenerator(rescale = 1/255)\n",
    "main_dataset = main_images.flow_from_directory(f'{os.path.abspath(os.getcwd())}/100',\n",
    "                                          target_size = shape_hyperparam_dir,\n",
    "                                          batch_size = 1,\n",
    "                                          class_mode = \"categorical\"\n",
    "                                         ) \n",
    "\n",
    "# IMPORTANT NOTE: Set batch size to 1 since we'll pass the whole dataset to KFold\n",
    "# **Higher batch size is better but slower ONLY DURING TRAINING!!!!**\n",
    "\n",
    "SKFold = StratifiedKFold(n_splits=N_SPLITS, shuffle=True, random_state=42) # random_state=42 means no randomness is applied\n",
    "create_directories(N_SPLITS)\n",
    "create_model_directories(N_SPLITS)\n",
    "main_dataset.class_indices"
   ]
  },
  {
   "cell_type": "code",
   "execution_count": null,
   "metadata": {
    "colab": {
     "base_uri": "https://localhost:8080/",
     "height": 35
    },
    "id": "87vapuqo2Z2Y",
    "outputId": "0a374da0-4afb-4891-e592-2af4e19d7345"
   },
   "outputs": [],
   "source": [
    "main_dataset.filenames[0]\n",
    "main_dataset.filepaths[0]"
   ]
  },
  {
   "cell_type": "code",
   "execution_count": null,
   "metadata": {
    "colab": {
     "background_save": true,
     "base_uri": "https://localhost:8080/"
    },
    "id": "6DcFHx7zy2kW",
    "outputId": "fed36740-5643-49e7-beeb-2d120be748ea"
   },
   "outputs": [],
   "source": [
    "%%time\n",
    "# VERY IMPORTANT NOTE: Always reset the directories before running the model. Use create_directories() and create_model_directories().\n",
    "\n",
    "start = perf_counter()\n",
    "scores = []\n",
    "fold_counter = 0\n",
    "for train_indices, test_indices in SKFold.split(main_dataset, main_dataset.classes):\n",
    "  if fold_counter <= 0:\n",
    "    fold_counter += 1\n",
    "    continue\n",
    "\n",
    "  # Append images to corresponding fold folder\n",
    "  # NOTE: main_dataset.filenames include their classe! FORMAT: <class_name>/<filename> e.g. c_bot_1/Adrian2_04.png\n",
    "  i = 1\n",
    "  for train_index in train_indices:\n",
    "    print(f\"i count: {i}, fold: {fold_counter} path: '{os.path.abspath(os.getcwd())}/folds/fold{fold_counter}/train/{main_dataset.filenames[train_index]}\")\n",
    "    cv.imwrite(f'{os.path.abspath(os.getcwd())}/folds/fold{fold_counter}/train/{main_dataset.filenames[train_index]}', \n",
    "               cv.imread(f'{os.path.abspath(os.getcwd())}/100/{main_dataset.filenames[train_index]}')\n",
    "               )\n",
    "    i += 1\n",
    "\n",
    "  j = 1\n",
    "  for test_index in test_indices:\n",
    "    print(f\"j count: {j}, fold: {fold_counter} path: '{os.path.abspath(os.getcwd())}/folds/fold{fold_counter}/test/{main_dataset.filenames[test_index]}\")\n",
    "    cv.imwrite(f'{os.path.abspath(os.getcwd())}/folds/fold{fold_counter}/test/{main_dataset.filenames[test_index]}',\n",
    "               cv.imread(f'{os.path.abspath(os.getcwd())}/100/{main_dataset.filenames[test_index]}')    \n",
    "              )\n",
    "    j += 1\n",
    "\n",
    "  \n",
    "  model = generate_model(shape_hyperparam_cnn)\n",
    "  model.compile(loss = \"categorical_crossentropy\",\n",
    "              optimizer = Adam(learning_rate = 0.0001),\n",
    "              metrics=['accuracy']\n",
    "  )\n",
    "\n",
    "  train_images = ImageDataGenerator(rescale = 1/255)\n",
    "  train_dataset = train_images.flow_from_directory(f'{os.path.abspath(os.getcwd())}/folds/fold{fold_counter}/train',\n",
    "                                          target_size = shape_hyperparam_dir,\n",
    "                                          batch_size = BATCH_SIZE,\n",
    "                                          class_mode = \"categorical\"\n",
    "                                         )\n",
    "  \n",
    "  test_images = ImageDataGenerator(rescale = 1/255)\n",
    "  test_dataset = test_images.flow_from_directory(f'{os.path.abspath(os.getcwd())}/folds/fold{fold_counter}/test',\n",
    "                                          target_size = shape_hyperparam_dir,\n",
    "                                          batch_size = BATCH_SIZE,\n",
    "                                          class_mode = \"categorical\"\n",
    "                                         )\n",
    "\n",
    "  history = model.fit(train_dataset,\n",
    "          epochs = EPOCHS,\n",
    "          validation_data = test_dataset,\n",
    "\n",
    "  )\n",
    "  end = perf_counter()\n",
    "  print(\"----------------------TRAINING FINISHED------------\")\n",
    "  print(f\"The model took {end - start} secs\")\n",
    "\n",
    "  path_to_model = f'{os.path.abspath(os.getcwd())}/models_kfold/fold{fold_counter}'\n",
    "  scores.append(history.history['accuracy'][-1])\n",
    "\n",
    "  model.save(f'{path_to_model}/fold{fold_counter}_model.h5')\n",
    "\n",
    "  hist_file = open(f'{path_to_model}/fold{fold_counter}_model_latestaccu.txt', 'a')\n",
    "  hist_file.write(f\"latest_accuracy: {history.history['accuracy'][-1]}\")\n",
    "  hist_file.close()\n",
    "\n",
    "  hist_file2 = open(f'{path_to_model}/fold{fold_counter}_model_history.txt', 'a')\n",
    "  hist_file2.write(f\"{history.history}\")\n",
    "  hist_file2.close()\n",
    "  \n",
    "  for metric in history.history:\n",
    "      x_label = \"Epoch\"\n",
    "      y_label = \"\"\n",
    "      title = \"\"\n",
    "      color = \"green\"\n",
    "\n",
    "      if metric == \"loss\":\n",
    "        title = \"Training Loss\"\n",
    "        y_label = \"Loss\"\n",
    "        color = \"blue\"\n",
    "\n",
    "      elif metric ==  \"accuracy\":\n",
    "        title = \"Training Accuracy\"\n",
    "        y_label = \"Accuracy\"\n",
    "        color = \"blue\"\n",
    "\n",
    "      elif metric ==  \"val_loss\":\n",
    "        title = \"Validation Loss\"\n",
    "        y_label = \"Loss\"\n",
    "        color = \"red\"\n",
    "\n",
    "      elif metric ==  \"val_accuracy\":\n",
    "        title = \"Validation Accuracy\"\n",
    "        y_label = \"Accuracy\"\n",
    "        color = \"red\"\n",
    "\n",
    "      else:\n",
    "        title = metric\n",
    "        y_label = metric\n",
    "\n",
    "\n",
    "      plt.plot(history.history[metric], color = color)\n",
    "      plt.xlabel(x_label)\n",
    "      plt.ylabel(y_label)\n",
    "      plt.title(title)\n",
    "      plt.savefig(f'{path_to_model}/fold{fold_counter}_{metric}.png')\n",
    "      plt.show()\n",
    "\n",
    "  fold_counter += 1\n"
   ]
  },
  {
   "cell_type": "code",
   "execution_count": null,
   "metadata": {},
   "outputs": [],
   "source": [
    "print(f\" Elapsed Time = {math.floor((end-start)/3600) } hours and {math.floor((end-start)/60)%60} mins\")"
   ]
  },
  {
   "cell_type": "code",
   "execution_count": null,
   "metadata": {},
   "outputs": [],
   "source": []
  },
  {
   "cell_type": "code",
   "execution_count": null,
   "metadata": {},
   "outputs": [],
   "source": []
  },
  {
   "cell_type": "code",
   "execution_count": null,
   "metadata": {},
   "outputs": [],
   "source": []
  }
 ],
 "metadata": {
  "colab": {
   "collapsed_sections": [],
   "name": "test_cnn",
   "provenance": []
  },
  "kernelspec": {
   "display_name": "Python 3 (ipykernel)",
   "language": "python",
   "name": "python3"
  },
  "language_info": {
   "codemirror_mode": {
    "name": "ipython",
    "version": 3
   },
   "file_extension": ".py",
   "mimetype": "text/x-python",
   "name": "python",
   "nbconvert_exporter": "python",
   "pygments_lexer": "ipython3",
   "version": "3.9.10"
  }
 },
 "nbformat": 4,
 "nbformat_minor": 4
}
