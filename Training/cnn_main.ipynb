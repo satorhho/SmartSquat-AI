{
 "cells": [
  {
   "cell_type": "code",
   "execution_count": null,
   "metadata": {
    "id": "G15xpmK_ehBh"
   },
   "outputs": [],
   "source": [
    "from tensorflow.keras.preprocessing.image import ImageDataGenerator\n",
    "from tensorflow.keras.preprocessing import image\n",
    "from tensorflow.keras.optimizers import RMSprop\n",
    "from tensorflow.keras.optimizers import Adam\n",
    "from tensorflow.keras.models import load_model\n",
    "from matplotlib import pyplot as plt \n",
    "from sklearn.model_selection import KFold\n",
    "import tensorflow as tf\n",
    "import cv2 as cv\n",
    "import os \n",
    "import math\n",
    "import numpy as np\n",
    "from time import perf_counter"
   ]
  },
  {
   "cell_type": "code",
   "execution_count": null,
   "metadata": {
    "colab": {
     "base_uri": "https://localhost:8080/"
    },
    "id": "sEr4IKPN5_6K",
    "outputId": "0cffc01a-f68a-4d61-a617-a607b2d3f2fb"
   },
   "outputs": [],
   "source": [
    "os.listdir() "
   ]
  },
  {
   "cell_type": "code",
   "execution_count": null,
   "metadata": {},
   "outputs": [],
   "source": [
    "print(\"Num GPUs Available: \", len(tf.config.list_physical_devices('GPU')))\n",
    "tf.debugging.set_log_device_placement(True)"
   ]
  },
  {
   "cell_type": "code",
   "execution_count": null,
   "metadata": {
    "id": "QPZrgEpqhVA5"
   },
   "outputs": [],
   "source": [
    "#img_height, img_width, img_channel = cv.imread(f'{os.path.abspath(os.getcwd())}/train/i_top_2/Yen_11.png').shape\n",
    "#img_shape = (img_height, img_width, img_channel)\n",
    "\n",
    "#tmp_height = math.floor(img_height/4)\n",
    "#tmp_width = math.floor(img_width/4)\n",
    "shape_hyperparam_dir = (224, 224)\n",
    "shape_hyperparam_cnn = (224, 224, 3) # Channel is unchanged"
   ]
  },
  {
   "cell_type": "code",
   "execution_count": null,
   "metadata": {
    "id": "PVcHJkpkUws2"
   },
   "outputs": [],
   "source": [
    "train = ImageDataGenerator(rescale = 1/255)"
   ]
  },
  {
   "cell_type": "code",
   "execution_count": null,
   "metadata": {
    "colab": {
     "base_uri": "https://localhost:8080/"
    },
    "id": "mMo5PskQjZGE",
    "outputId": "e34e4f6b-76d1-49e3-8bdb-ddf09c02dd1a"
   },
   "outputs": [],
   "source": [
    "train_dataset = train.flow_from_directory(f'{os.path.abspath(os.getcwd())}/100', # Augmented. Only for 100.\n",
    "                                          target_size = shape_hyperparam_dir,\n",
    "                                          batch_size = 2**3, # Higher batch size is better but slower\n",
    "                                          class_mode = \"categorical\"\n",
    "                                         )"
   ]
  },
  {
   "cell_type": "code",
   "execution_count": null,
   "metadata": {
    "colab": {
     "base_uri": "https://localhost:8080/"
    },
    "id": "RMfhRsOAjoy8",
    "outputId": "2062295c-d1ab-4e18-8ece-0767f24f0891"
   },
   "outputs": [],
   "source": [
    "train_dataset.class_indices"
   ]
  },
  {
   "cell_type": "code",
   "execution_count": null,
   "metadata": {
    "id": "bLgFewDtjrrn",
    "tags": []
   },
   "outputs": [],
   "source": [
    "\n",
    "model = tf.keras.models.Sequential([tf.keras.layers.Conv2D(250, (3, 3), activation = \"relu\", input_shape = shape_hyperparam_cnn), #ConvLayer\n",
    "                                    tf.keras.layers.MaxPool2D(2, 2), \n",
    "\n",
    "                                    tf.keras.layers.Conv2D(300, (4, 4), activation = \"relu\"),\n",
    "                                    tf.keras.layers.MaxPool2D(2, 2),\n",
    "\n",
    "                                    tf.keras.layers.Conv2D(500, (4, 4), activation = \"relu\"),\n",
    "                                    tf.keras.layers.MaxPool2D(2, 2), \n",
    "\n",
    "                                    tf.keras.layers.Conv2D(256, (2,2), activation =\"relu\", kernel_regularizer='l1_l2', bias_regularizer=\"l1\", activity_regularizer=\"l2\"),\n",
    "\n",
    "                                    tf.keras.layers.Conv2D(800, (3, 3), activation = \"relu\"),    # This \n",
    "                                    tf.keras.layers.MaxPool2D(2, 2),                             # This \n",
    "\n",
    "                                    tf.keras.layers.Conv2D(256, (2, 2), activation = \"relu\"),\n",
    "                                    tf.keras.layers.MaxPool2D(2, 2), \n",
    "\n",
    "                                    tf.keras.layers.Conv2D(512, (3, 3), activation = \"relu\"),    # This \n",
    "                                    tf.keras.layers.MaxPool2D(2, 2),                             # This  \n",
    "\n",
    "                                    tf.keras.layers.BatchNormalization(),\n",
    "\n",
    "                                    tf.keras.layers.Flatten(),\n",
    "\n",
    "                                    tf.keras.layers.Dense(500, activation = \"relu\"),             # This \n",
    "\n",
    "                                    tf.keras.layers.Dense(250, activation = \"relu\"),\n",
    "\n",
    "                                    tf.keras.layers.Dense(100, activation = \"relu\", kernel_regularizer='l1_l2', bias_regularizer=\"l1_l2\", activity_regularizer=\"l1_l2\"),\n",
    "\n",
    "                                    tf.keras.layers.BatchNormalization(),\n",
    "\n",
    "                                    # FINAL DENSE LAYER NEURON COUNT SHOULD BE EQUAL TO OUR CLASSESS (n = 8)\n",
    "                                    tf.keras.layers.Dense(8, activation = \"softmax\"), \n",
    "\n",
    "])\n"
   ]
  },
  {
   "cell_type": "code",
   "execution_count": null,
   "metadata": {
    "id": "OriVozNrlY2r"
   },
   "outputs": [],
   "source": [
    "model.compile(loss = \"categorical_crossentropy\",\n",
    "              optimizer = Adam(learning_rate = 0.0001),\n",
    "              metrics=['accuracy']\n",
    ")"
   ]
  },
  {
   "cell_type": "code",
   "execution_count": null,
   "metadata": {
    "colab": {
     "base_uri": "https://localhost:8080/",
     "height": 414
    },
    "id": "-N2jsZn_oZ9k",
    "outputId": "8589351c-bf13-412c-c89c-2fe1fa862a26"
   },
   "outputs": [],
   "source": [
    "\n",
    "start = perf_counter()\n",
    "history = model.fit(train_dataset,\n",
    "          epochs = 150,\n",
    ")\n",
    "end = perf_counter()\n",
    "print(\"----------------------TRAINING FINISHED------------\")\n",
    "print(f\" Training Time = {math.floor((end-start)/3600) } hours and {math.floor((end-start)/60)%60} mins\")\n"
   ]
  },
  {
   "cell_type": "code",
   "execution_count": null,
   "metadata": {},
   "outputs": [],
   "source": [
    "print(f\" Main Model Training Time = {math.floor((end-start)/3600) } hours and {math.floor((end-start)/60)%60} mins\")"
   ]
  },
  {
   "cell_type": "code",
   "execution_count": null,
   "metadata": {
    "id": "ZpRakNu6VZfS"
   },
   "outputs": [],
   "source": [
    "path_to_model = f'{os.path.abspath(os.getcwd())}/main_model'\n",
    "\n",
    "model.save(f'{path_to_model}/model.h5')\n",
    "\n",
    "hist_file = open(f'{path_to_model}/model_latestaccu.txt', 'a')\n",
    "hist_file.write(f\"latest_accuracy: {history.history['accuracy'][-1]}\")\n",
    "hist_file.close()\n",
    "\n",
    "hist_file2 = open(f'{path_to_model}/model_history.txt', 'a')\n",
    "hist_file2.write(f\"{history.history}\")\n",
    "hist_file2.close()\n",
    "\n",
    "for metric in history.history:\n",
    "  x_label = \"Epoch\"\n",
    "  y_label = \"\"\n",
    "  title = \"\"\n",
    "  color = \"green\"\n",
    "\n",
    "  if metric == \"loss\":\n",
    "    title = \"Training Loss\"\n",
    "    y_label = \"Loss\"\n",
    "    color = \"blue\"\n",
    "\n",
    "  elif metric ==  \"accuracy\":\n",
    "    title = \"Training Accuracy\"\n",
    "    y_label = \"Accuracy\"\n",
    "    color = \"red\"\n",
    "\n",
    "  else:\n",
    "    title = metric\n",
    "    y_label = metric\n",
    "\n",
    "\n",
    "  plt.plot(history.history[metric], color = color)\n",
    "  plt.xlabel(x_label)\n",
    "  plt.ylabel(y_label)\n",
    "  plt.title(title)\n",
    "  plt.savefig(f'{path_to_model}/{metric}.png')\n",
    "  plt.show()"
   ]
  },
  {
   "cell_type": "code",
   "execution_count": null,
   "metadata": {},
   "outputs": [],
   "source": []
  }
 ],
 "metadata": {
  "accelerator": "GPU",
  "colab": {
   "collapsed_sections": [],
   "name": "cnn_main",
   "provenance": []
  },
  "kernelspec": {
   "display_name": "Python 3 (ipykernel)",
   "language": "python",
   "name": "python3"
  },
  "language_info": {
   "codemirror_mode": {
    "name": "ipython",
    "version": 3
   },
   "file_extension": ".py",
   "mimetype": "text/x-python",
   "name": "python",
   "nbconvert_exporter": "python",
   "pygments_lexer": "ipython3",
   "version": "3.9.10"
  }
 },
 "nbformat": 4,
 "nbformat_minor": 4
}
