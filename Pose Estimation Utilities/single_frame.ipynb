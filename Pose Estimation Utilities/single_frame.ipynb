{
 "cells": [
  {
   "cell_type": "markdown",
   "id": "eba51af5",
   "metadata": {},
   "source": [
    "Libraries"
   ]
  },
  {
   "cell_type": "code",
   "execution_count": 18,
   "id": "59178bf3",
   "metadata": {},
   "outputs": [],
   "source": [
    "import cv2 as cv\n",
    "import mediapipe as mp"
   ]
  },
  {
   "cell_type": "markdown",
   "id": "f3880394",
   "metadata": {},
   "source": [
    "Functions"
   ]
  },
  {
   "cell_type": "code",
   "execution_count": 19,
   "id": "baa0cb43",
   "metadata": {},
   "outputs": [],
   "source": [
    "def estimate(image, path):\n",
    "    mpDraw = mp.solutions.drawing_utils\n",
    "    mpPose = mp.solutions.pose\n",
    "    pose = mpPose.Pose()\n",
    "    imgRGB = cv.cvtColor(image, cv.COLOR_BGR2RGB)\n",
    "    results = pose.process(imgRGB)\n",
    "    \n",
    "    if results.pose_landmarks:\n",
    "        mpDraw.draw_landmarks(image, results.pose_landmarks, mpPose.POSE_CONNECTIONS)\n",
    "    else:\n",
    "        raise IOError(\"Image Unestimated\")\n",
    "        \n",
    "    cv.imwrite(f\"{path[:-4]}_estimated{path[-4:]}\", image)\n",
    "    \n",
    "def estimate_frame (path):\n",
    "    img = cv.imread(path)\n",
    "    \n",
    "    if img is None:\n",
    "        raise IOError(\"Cant Load Video\")\n",
    "        \n",
    "    estimate(img, path)\n",
    "    "
   ]
  },
  {
   "cell_type": "markdown",
   "id": "441a10f5",
   "metadata": {},
   "source": [
    "Main"
   ]
  },
  {
   "cell_type": "code",
   "execution_count": 20,
   "id": "2ad7be67",
   "metadata": {},
   "outputs": [],
   "source": [
    "estimate_frame(\"vacuum.jpg\")"
   ]
  }
 ],
 "metadata": {
  "kernelspec": {
   "display_name": "Python 3",
   "language": "python",
   "name": "python3"
  },
  "language_info": {
   "codemirror_mode": {
    "name": "ipython",
    "version": 3
   },
   "file_extension": ".py",
   "mimetype": "text/x-python",
   "name": "python",
   "nbconvert_exporter": "python",
   "pygments_lexer": "ipython3",
   "version": "3.8.8"
  }
 },
 "nbformat": 4,
 "nbformat_minor": 5
}
