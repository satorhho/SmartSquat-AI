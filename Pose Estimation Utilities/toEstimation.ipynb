{
 "cells": [
  {
   "cell_type": "markdown",
   "id": "4267537c",
   "metadata": {},
   "source": [
    "Libraries"
   ]
  },
  {
   "cell_type": "code",
   "execution_count": 4,
   "id": "c1db782f",
   "metadata": {},
   "outputs": [],
   "source": [
    "import cv2 as cv\n",
    "import numpy as np\n",
    "import mediapipe as mp\n",
    "from matplotlib import pyplot as plt\n",
    "import time\n",
    "import math\n",
    "import os\n",
    "import pathlib"
   ]
  },
  {
   "cell_type": "markdown",
   "id": "cda895b4",
   "metadata": {},
   "source": [
    "Functions"
   ]
  },
  {
   "cell_type": "code",
   "execution_count": 5,
   "id": "3df297ff",
   "metadata": {},
   "outputs": [],
   "source": [
    "def toEstimation(origin, origin_str, destination_str):\n",
    "    for root, directories, files in origin:\n",
    "        for file in files:\n",
    "            video = origin_str + f\"\\\\{file}\"\n",
    "            cap = cv.VideoCapture(video)\n",
    "            print(f\"Processing Video: {video}\")\n",
    "\n",
    "            mpDraw = mp.solutions.drawing_utils\n",
    "            mpPose = mp.solutions.pose\n",
    "            pose = mpPose.Pose()\n",
    "\n",
    "            frame_width = math.floor(int(cap.get(3)))\n",
    "            frame_height = math.floor(int(cap.get(4)))\n",
    "            size = (frame_width, frame_height)\n",
    "\n",
    "            result = cv.VideoWriter(f\"{destination_str}\\\\{file[:-4]}.mp4\", cv.VideoWriter_fourcc(*'MP4V'), 30, size)\n",
    "\n",
    "            #if not cap.isOpened():\n",
    "            #    cap = cv.VideoCapture(0)\n",
    "\n",
    "            if not cap.isOpened():\n",
    "                raise IOError(\"Cant Load Video\")\n",
    "\n",
    "\n",
    "            while cv.waitKey(1) < 0:\n",
    "                hasFrame, frame = cap.read()\n",
    "\n",
    "\n",
    "                if not hasFrame:\n",
    "                    cv.waitKey(1)\n",
    "                    cap.release()\n",
    "                    result.release()\n",
    "                    cv.destroyAllWindows()\n",
    "                    break\n",
    "\n",
    "\n",
    "                imgRGB = cv.cvtColor(frame, cv.COLOR_BGR2RGB)\n",
    "                results = pose.process(imgRGB)\n",
    "\n",
    "                #print(results.pose_landmarks)\n",
    "                if results.pose_landmarks:\n",
    "                    mpDraw.draw_landmarks(frame, results.pose_landmarks, mpPose.POSE_CONNECTIONS)\n",
    "                    for id, lm in enumerate(results.pose_landmarks.landmark):\n",
    "                        height, width, channel = frame.shape\n",
    "                        #print(id, lm)\n",
    "                    #    cx, cy = int(lm.x*width), int(lm.y*height)\n",
    "                    #    cv.circle(frame, (cx, cy), 10, (255, 0, 0), cv.FILLED)\n",
    "\n",
    "\n",
    "                imS = cv.resize(frame, (frame_width, frame_height))\n",
    "                result.write(imS)\n",
    "\n",
    "                # This part is unnecessary but may function as visual aid\n",
    "                resized_frame = cv.resize(frame, (math.floor(frame_width/3), math.floor(frame_height/3)))\n",
    "                cv.imshow(file, resized_frame)\n",
    "                # -----end----\n",
    "\n",
    "                cv.waitKey(1)\n",
    "    print(\"Process Terminated\")"
   ]
  },
  {
   "cell_type": "markdown",
   "id": "99819453",
   "metadata": {},
   "source": [
    "Global Params"
   ]
  },
  {
   "cell_type": "code",
   "execution_count": 6,
   "id": "24437c29",
   "metadata": {},
   "outputs": [
    {
     "data": {
      "text/plain": [
       "generator"
      ]
     },
     "execution_count": 6,
     "metadata": {},
     "output_type": "execute_result"
    }
   ],
   "source": [
    "path = os.walk(os.path.abspath(os.getcwd())) # Gets current directory\n",
    "origin_str = os.path.abspath(os.getcwd()) + \"\\\\correct_raw\"\n",
    "origin = os.walk(origin_str)\n",
    "destination_str = os.path.abspath(os.getcwd()) + \"\\\\correct_estimated\"\n",
    "destination = os.walk(destination_str)\n",
    "type(destination)"
   ]
  },
  {
   "cell_type": "markdown",
   "id": "f80a292e",
   "metadata": {},
   "source": [
    "Main"
   ]
  },
  {
   "cell_type": "code",
   "execution_count": 7,
   "id": "9f0c3bb2",
   "metadata": {},
   "outputs": [
    {
     "name": "stdout",
     "output_type": "stream",
     "text": [
      "Processing Video: C:\\Users\\Lance\\Desktop\\toEstimation\\correct_raw\\Adrian_01.mov\n",
      "Processing Video: C:\\Users\\Lance\\Desktop\\toEstimation\\correct_raw\\Adrian_02.mov\n",
      "Processing Video: C:\\Users\\Lance\\Desktop\\toEstimation\\correct_raw\\Adrian_03.mov\n",
      "Processing Video: C:\\Users\\Lance\\Desktop\\toEstimation\\correct_raw\\Adrian_04.mov\n",
      "Processing Video: C:\\Users\\Lance\\Desktop\\toEstimation\\correct_raw\\Adrian_05.MOV\n",
      "Processing Video: C:\\Users\\Lance\\Desktop\\toEstimation\\correct_raw\\Adrian_07.MOV\n",
      "Processing Video: C:\\Users\\Lance\\Desktop\\toEstimation\\correct_raw\\Adrian_12.MOV\n",
      "Processing Video: C:\\Users\\Lance\\Desktop\\toEstimation\\correct_raw\\Adrian_15.MOV\n",
      "Processing Video: C:\\Users\\Lance\\Desktop\\toEstimation\\correct_raw\\Adrian_16.MOV\n",
      "Processing Video: C:\\Users\\Lance\\Desktop\\toEstimation\\correct_raw\\Angela_02.mov\n",
      "Processing Video: C:\\Users\\Lance\\Desktop\\toEstimation\\correct_raw\\Angela_03.mov\n",
      "Processing Video: C:\\Users\\Lance\\Desktop\\toEstimation\\correct_raw\\Angela_04.mov\n",
      "Processing Video: C:\\Users\\Lance\\Desktop\\toEstimation\\correct_raw\\Angela_05.mov\n",
      "Processing Video: C:\\Users\\Lance\\Desktop\\toEstimation\\correct_raw\\Angela_06.mov\n",
      "Processing Video: C:\\Users\\Lance\\Desktop\\toEstimation\\correct_raw\\Angela_07.mov\n",
      "Processing Video: C:\\Users\\Lance\\Desktop\\toEstimation\\correct_raw\\Angela_08.mov\n",
      "Processing Video: C:\\Users\\Lance\\Desktop\\toEstimation\\correct_raw\\Angela_09.mov\n",
      "Processing Video: C:\\Users\\Lance\\Desktop\\toEstimation\\correct_raw\\Angela_10.mov\n",
      "Processing Video: C:\\Users\\Lance\\Desktop\\toEstimation\\correct_raw\\Angela_11.mov\n",
      "Processing Video: C:\\Users\\Lance\\Desktop\\toEstimation\\correct_raw\\Angela_12.mov\n",
      "Processing Video: C:\\Users\\Lance\\Desktop\\toEstimation\\correct_raw\\Angela_14.mov\n",
      "Processing Video: C:\\Users\\Lance\\Desktop\\toEstimation\\correct_raw\\Angela_15.mov\n",
      "Processing Video: C:\\Users\\Lance\\Desktop\\toEstimation\\correct_raw\\Lance_02.mov\n",
      "Processing Video: C:\\Users\\Lance\\Desktop\\toEstimation\\correct_raw\\Lance_03.mov\n",
      "Processing Video: C:\\Users\\Lance\\Desktop\\toEstimation\\correct_raw\\Lance_05.mov\n",
      "Processing Video: C:\\Users\\Lance\\Desktop\\toEstimation\\correct_raw\\Lance_06.mov\n",
      "Processing Video: C:\\Users\\Lance\\Desktop\\toEstimation\\correct_raw\\Lance_07.mov\n",
      "Processing Video: C:\\Users\\Lance\\Desktop\\toEstimation\\correct_raw\\Lance_08.mov\n",
      "Processing Video: C:\\Users\\Lance\\Desktop\\toEstimation\\correct_raw\\Lance_09.mov\n",
      "Processing Video: C:\\Users\\Lance\\Desktop\\toEstimation\\correct_raw\\Lance_11.mov\n",
      "Processing Video: C:\\Users\\Lance\\Desktop\\toEstimation\\correct_raw\\Lance_12.mov\n",
      "Processing Video: C:\\Users\\Lance\\Desktop\\toEstimation\\correct_raw\\Lance_13.mov\n",
      "Processing Video: C:\\Users\\Lance\\Desktop\\toEstimation\\correct_raw\\Lance_14.mov\n",
      "Processing Video: C:\\Users\\Lance\\Desktop\\toEstimation\\correct_raw\\Lance_15.mov\n",
      "Process Terminated\n"
     ]
    }
   ],
   "source": [
    "toEstimation(origin, origin_str, destination_str)"
   ]
  },
  {
   "cell_type": "code",
   "execution_count": null,
   "id": "856b2ba6",
   "metadata": {},
   "outputs": [],
   "source": []
  }
 ],
 "metadata": {
  "kernelspec": {
   "display_name": "Python 3",
   "language": "python",
   "name": "python3"
  },
  "language_info": {
   "codemirror_mode": {
    "name": "ipython",
    "version": 3
   },
   "file_extension": ".py",
   "mimetype": "text/x-python",
   "name": "python",
   "nbconvert_exporter": "python",
   "pygments_lexer": "ipython3",
   "version": "3.8.8"
  }
 },
 "nbformat": 4,
 "nbformat_minor": 5
}
