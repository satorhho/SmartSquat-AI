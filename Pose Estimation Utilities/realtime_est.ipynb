{
 "cells": [
  {
   "cell_type": "code",
   "execution_count": 7,
   "id": "18c99c89",
   "metadata": {},
   "outputs": [],
   "source": [
    "import cv2 as cv\n",
    "import mediapipe as mp"
   ]
  },
  {
   "cell_type": "code",
   "execution_count": 8,
   "id": "6a0cf265",
   "metadata": {},
   "outputs": [],
   "source": [
    "camera = cv.VideoCapture(0, cv.CAP_DSHOW)\n",
    "mpDraw = mp.solutions.drawing_utils\n",
    "mpPose = mp.solutions.pose\n",
    "pose = mpPose.Pose()\n",
    "\n",
    "while True:\n",
    "    ret, frame = camera.read()\n",
    "\n",
    "    imgRGB = cv.cvtColor(frame, cv.COLOR_BGR2RGB)\n",
    "    results = pose.process(imgRGB)\n",
    "    \n",
    "    if results.pose_landmarks:\n",
    "        mpDraw.draw_landmarks(frame, results.pose_landmarks, mpPose.POSE_CONNECTIONS)\n",
    "        for id, lm in enumerate(results.pose_landmarks.landmark):\n",
    "            h, w, c = frame.shape\n",
    "            #print(id, lm)\n",
    "        \n",
    "    cv.imshow(\"Realtime\", frame)\n",
    "    key = cv.waitKey(1)\n",
    "    \n",
    "    if key == ord('q'):\n",
    "        key = cv.waitKey()\n",
    "        camera.release()\n",
    "        cv.destroyAllWindows()\n",
    "        break\n",
    "        "
   ]
  },
  {
   "cell_type": "code",
   "execution_count": null,
   "id": "f0487e8d",
   "metadata": {},
   "outputs": [],
   "source": []
  }
 ],
 "metadata": {
  "kernelspec": {
   "display_name": "Python 3",
   "language": "python",
   "name": "python3"
  },
  "language_info": {
   "codemirror_mode": {
    "name": "ipython",
    "version": 3
   },
   "file_extension": ".py",
   "mimetype": "text/x-python",
   "name": "python",
   "nbconvert_exporter": "python",
   "pygments_lexer": "ipython3",
   "version": "3.8.8"
  }
 },
 "nbformat": 4,
 "nbformat_minor": 5
}
